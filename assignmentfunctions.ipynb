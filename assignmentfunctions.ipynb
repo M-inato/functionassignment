{
  "nbformat": 4,
  "nbformat_minor": 0,
  "metadata": {
    "colab": {
      "provenance": []
    },
    "kernelspec": {
      "name": "python3",
      "display_name": "Python 3"
    },
    "language_info": {
      "name": "python"
    }
  },
  "cells": [
    {
      "cell_type": "code",
      "execution_count": 59,
      "metadata": {
        "id": "80Wy8IX_PsXn",
        "colab": {
          "base_uri": "https://localhost:8080/"
        },
        "outputId": "54a9ed77-3de1-4af3-e667-aa499a12413a"
      },
      "outputs": [
        {
          "output_type": "stream",
          "name": "stdout",
          "text": [
            "30\n"
          ]
        }
      ],
      "source": [
        "# Q1 What is the difference between a function and a method in Python?\n",
        "\n",
        "# solution:-\n",
        "\n",
        "'''\n",
        "functions are individual bolck of code that can be called from anywhere in the code.\n",
        "\n",
        "methods are associated with the class and objects and have a significant difference from functions.they need a object of the class to be invoked.\n",
        "\n",
        "Methods in python:-\n",
        "\n",
        "1.method defination are always present in the class.\n",
        "2.associated with class object.\n",
        "3.it is invoked using a object.\n",
        "4.it requires the self as its first argument.\n",
        "\n",
        "Functions in python:-\n",
        "\n",
        "1. no need of the class to define a function.\n",
        "2. it is not associated with the class and objects.\n",
        "3. it is invoked using the function name.\n",
        "4. it doesn't require any first argument.\n",
        "\n",
        "\n",
        "'''\n",
        "## exmaples:-\n",
        "\n",
        "### function example:-\n",
        "\n",
        "def fun():\n",
        "  print(\"hii how are you\")\n",
        "\n",
        "### method example in python:-\n",
        "\n",
        "class abc:\n",
        "\n",
        "  def add(self,a,b):\n",
        "    return a + b\n",
        "\n",
        "a=abc()\n",
        "result_add = a.add(10,20)\n",
        "print(result_add)"
      ]
    },
    {
      "cell_type": "code",
      "source": [
        "# Q2 Explain the concept of function arguments and parameters in Python.\n",
        "\n",
        "# solution:-\n",
        "'''\n",
        "a  parameter is the variable defined within the parentheses during function definition. they are written when we declare a function.\n",
        "\n",
        "a argument is a value that is passed to a function when it is called. it might be a variable, value or object passed to a function or method as input. it is passed at the time of the function calling\n",
        "\n",
        " '''\n",
        "### parameter  example:-\n",
        "\n",
        "def sum(a,b):\n",
        "  print(a+b)\n",
        "\n",
        "sum(1,2)\n",
        "\n",
        "### the a and b are the paramenters in the above function\n",
        "\n",
        "### argument example:-\n",
        "\n",
        "def sum(a,b):\n",
        "  print(a+b)\n",
        "  sum(1,2)\n",
        "\n",
        "### Here the values 1,2 are arguments\n"
      ],
      "metadata": {
        "id": "kNdraAU9TULT",
        "colab": {
          "base_uri": "https://localhost:8080/"
        },
        "outputId": "17892ebe-7374-4696-b40c-271bb44cf432"
      },
      "execution_count": 57,
      "outputs": [
        {
          "output_type": "stream",
          "name": "stdout",
          "text": [
            "3\n"
          ]
        }
      ]
    },
    {
      "cell_type": "code",
      "source": [
        "# Q3 . What are the different ways to define and call a function in Python?\n",
        "\n",
        "# solution:-\n",
        "\n",
        "'''\n",
        "different ways to define and call a function in python are as under:-\n",
        "'''\n",
        "### 1 method using the def :-\n",
        "\n",
        "def fun():\n",
        "    print(\"hii my name is lokendra\")\n",
        "\n",
        "## calling the function:-\n",
        "### this is called the driver code\n",
        "fun()\n",
        "\n",
        "### second method using the arguments:-\n",
        "\n",
        "def evenOdd(x):\n",
        "    if (x % 2 == 0):\n",
        "        print(\"even\")\n",
        "    else:\n",
        "        print(\"odd\")\n",
        "\n",
        "### calling the function:-\n",
        "evenOdd(2)\n"
      ],
      "metadata": {
        "id": "WckJTVukVItG",
        "colab": {
          "base_uri": "https://localhost:8080/"
        },
        "outputId": "239b2c7e-b6e2-498a-a9a7-113f5ad371fb"
      },
      "execution_count": 56,
      "outputs": [
        {
          "output_type": "stream",
          "name": "stdout",
          "text": [
            "hii my name is lokendra\n",
            "even\n"
          ]
        }
      ]
    },
    {
      "cell_type": "code",
      "source": [
        " # Q4 What is the purpose of the `return` statement in a Python function?\n",
        "\n",
        " # solution:-\n",
        "\n",
        "'''\n",
        "several uses of the return function are as under:-\n",
        "1. it ends the execution of the function.\n",
        "2. it is used to return the calculated value of the function.\n",
        "3. it is also used to return the flow of the program to the caller of the function.\n",
        "4. the return function also specify the termination of the function which is very essential.\n",
        "'''\n",
        "\n",
        "### return keyword example:-\n",
        "\n",
        "def fun():\n",
        "  print(\"hii how are you\")\n",
        "  return\n",
        "  print(\"i am fine\")\n",
        "\n",
        "fun()\n",
        "\n",
        "## output will not print the 'i am fine' because the return statement ends the execution of the program ."
      ],
      "metadata": {
        "colab": {
          "base_uri": "https://localhost:8080/"
        },
        "id": "ytq0f440hbGN",
        "outputId": "9da48107-9fbd-4e0c-a079-9cb64e1d0468"
      },
      "execution_count": 55,
      "outputs": [
        {
          "output_type": "stream",
          "name": "stdout",
          "text": [
            "hii how are you\n"
          ]
        }
      ]
    },
    {
      "cell_type": "code",
      "source": [
        "# Q5 What are iterators in Python and how do they differ from iterables?\n",
        "\n",
        "#solution:-\n",
        "\n",
        "'''\n",
        "iterable:-iterable is an object, that one can iterate over. It generates an Iterator when passed to iter() method\n",
        "\n",
        "iterators:-an iterator is an object, which is used to iterate over an iterable object using the __next__() method.\n",
        "Iterators have the __next__() method, which returns the next item of the object\n",
        "'''\n",
        "## examples  of the iterables ans iterators\n",
        "### here i am using the same example from the practicle question (fibonacci series using the iterator class)\n",
        "\n",
        "class FibonacciIterator:\n",
        "    def __init__(self, n):\n",
        "        self.n = n\n",
        "        self.a, self.b = 0, 1\n",
        "        self.count = 0\n",
        "\n",
        "    def __iter__(self):\n",
        "        return self\n",
        "\n",
        "    def __next__(self):\n",
        "        if self.count >= self.n:\n",
        "            raise StopIteration\n",
        "        self.count += 1\n",
        "        current = self.a\n",
        "        self.a, self.b = self.b, self.a + self.b\n",
        "        return current\n",
        "\n",
        "fib = FibonacciIterator(12)\n",
        "for num in fib:\n",
        "    print(num)"
      ],
      "metadata": {
        "id": "97BkYpNQjXmP"
      },
      "execution_count": null,
      "outputs": []
    },
    {
      "cell_type": "code",
      "source": [
        "# Q6 Explain the concept of generators in Python and how they are defined.?\n",
        "\n",
        "#solution:-\n",
        "'''\n",
        " generator function in Python is defined like a normal function, but whenever it needs to generate a value, it does so with the yield keyword rather than return.\n",
        " if the body of the function has the yeild keyword, then it becomes a generator function.\n",
        "'''\n",
        "\n",
        "## examples  of the generators:-\n",
        "def simplegenerator():\n",
        "    yield 1\n",
        "    yield 2\n",
        "    yield 3\n",
        "\n",
        "### driver code\n",
        "for value in simplegenerator():\n",
        "    print(value)"
      ],
      "metadata": {
        "colab": {
          "base_uri": "https://localhost:8080/"
        },
        "id": "BOsIsSjcksZF",
        "outputId": "4c7b886e-6ddb-48c8-c989-047a1cf0e689"
      },
      "execution_count": 54,
      "outputs": [
        {
          "output_type": "stream",
          "name": "stdout",
          "text": [
            "1\n",
            "2\n",
            "3\n"
          ]
        }
      ]
    },
    {
      "cell_type": "code",
      "source": [
        "# Q7 What are the advantages of using generators over regular functions?\n",
        "\n",
        "#solution:-\n",
        "\n",
        "'''\n",
        "generators differ from standard functions in that they allow you to iterate through a sequence of values over time, instead of computing and returning a single result.\n",
        "\n",
        "compute a value and return it once.they use the return statement.\n",
        "\n",
        "advantages of the generators:-\n",
        "\n",
        "1.Memory efficiency :- it is the best advantage of the generators that they are the memory generator\n",
        "2.Readability :- generators can make your code easier to read and understand\n",
        "3.Speed :- generators can also be faster than regular loops, especially when working with large data sets.\n",
        "\n",
        "'''\n",
        "\n",
        "## examples  of the generators:-\n",
        "def simplegenerator():\n",
        "    yield 1\n",
        "    yield 2\n",
        "    yield 3\n",
        "\n",
        "### driver code\n",
        "for value in simplegenerator():\n",
        "    print(value)"
      ],
      "metadata": {
        "colab": {
          "base_uri": "https://localhost:8080/"
        },
        "id": "_emQUzHql_4S",
        "outputId": "20ae7875-665f-4efc-d1ff-f7e3b365bd40"
      },
      "execution_count": 53,
      "outputs": [
        {
          "output_type": "stream",
          "name": "stdout",
          "text": [
            "1\n",
            "2\n",
            "3\n"
          ]
        }
      ]
    },
    {
      "cell_type": "code",
      "source": [
        "# Q8 What is a lambda function in Python and when is it typically used?\n",
        "\n",
        "# solution:-\n",
        "'''\n",
        "Python Lambda Functions are anonymous functions means that the function is without a name.\n",
        "they are one line functions usually.\n",
        "the lambda keyword is used to define an anonymous function in Python.\n",
        "\n",
        "'''\n",
        "## examples :-\n",
        "\n",
        "s = 'pwskills'\n",
        "upper = lambda string: string.upper()\n",
        "print(upper(s))"
      ],
      "metadata": {
        "colab": {
          "base_uri": "https://localhost:8080/"
        },
        "id": "PyO-IKInoQM1",
        "outputId": "0a57220a-b90f-4251-d1e2-692f4d0b2c80"
      },
      "execution_count": 46,
      "outputs": [
        {
          "output_type": "stream",
          "name": "stdout",
          "text": [
            "PWSKILLS\n"
          ]
        }
      ]
    },
    {
      "cell_type": "code",
      "source": [
        "# Q9 Explain the purpose and usage of the `map()` function in Python.?\n",
        "\n",
        "# solution:-\n",
        "'''\n",
        "The map() function in Python applies a function to every item in an iterable, such as a list or tuple, and returns the results as a list.\n",
        "\n",
        "it's useful when you want to apply the same transformation to all elements in an iterable.\n",
        "\n",
        "purpose and usage of the map() function:-\n",
        "\n",
        "1.Cleaner code:- it makes the code to be more cleaner\n",
        "2.Consumes less memory:- it consumes less memory\n",
        "3.Optimizes code:- it optimizes the code\n",
        "\n",
        "'''\n",
        "## examples:-\n",
        "\n",
        "a, b, c = map(int, input().split())\n"
      ],
      "metadata": {
        "colab": {
          "base_uri": "https://localhost:8080/"
        },
        "id": "T311t39KpNNs",
        "outputId": "191dd87c-2a8c-468d-da86-c79a2a82c7b8"
      },
      "execution_count": 65,
      "outputs": [
        {
          "name": "stdout",
          "output_type": "stream",
          "text": [
            "1 2 3 \n"
          ]
        }
      ]
    },
    {
      "cell_type": "code",
      "source": [
        "# Q10 What is the difference between `map()`, `reduce()`, and `filter()` functions in Python?\n",
        "\n",
        "# solution:-\n",
        "'''\n",
        "map():-the map () function returns a map object of the results after applying the given function to each item of a given iterable (list, tuple).\n",
        "syntax: map(fun, iter)\n",
        "\n",
        "reduce():-the reduce function is used to apply a particular function passed in its argument to all of the list elements mentioned in the sequence passed along.This function is defined in “functools” module.\n",
        "syntax:-reduce(func, iterable[, initial])\n",
        "\n",
        "filter():-the filter function is used to filter the iterables/sequence as per the conditions.\n",
        "syntax:-filter(fun, iter)\n",
        "\n",
        "'''\n",
        "## example of the map :-\n",
        "\n",
        "def int(n):\n",
        "    return n * 2\n",
        "numbers = [5, 6, 7, 8]\n",
        "result = map(int, numbers)\n",
        "print(list(result))\n",
        "\n",
        "## example of the reduce :-\n",
        "\n",
        "import functools\n",
        "numbers = [1, 2, 3, 4]\n",
        "my = functools.reduce(lambda x, y: x * y, numbers)\n",
        "print(my)\n",
        "\n",
        "## example of the filter :-\n",
        "\n",
        "def even(n):\n",
        "    return n % 2 == 0\n",
        "numbers = [1, 2, 3, 4, 5, 6, 7, 8, 9, 10]\n",
        "numbers = filter(even, numbers)\n",
        "print( list(numbers))"
      ],
      "metadata": {
        "colab": {
          "base_uri": "https://localhost:8080/"
        },
        "id": "-K4EEJ_gqinM",
        "outputId": "f4b6bcde-7190-4063-c5cd-1c3a59bd132e"
      },
      "execution_count": 52,
      "outputs": [
        {
          "output_type": "stream",
          "name": "stdout",
          "text": [
            "[10, 12, 14, 16]\n",
            "24\n",
            "Even numbers: [2, 4, 6, 8, 10]\n"
          ]
        }
      ]
    },
    {
      "cell_type": "code",
      "source": [
        "# practicle questions :-"
      ],
      "metadata": {
        "id": "rhn1TyPeszRI"
      },
      "execution_count": null,
      "outputs": []
    },
    {
      "cell_type": "code",
      "source": [
        "def sum_of_evens(numbers):\n",
        "    \"\"\"\n",
        "    This function takes a list of numbers as input and returns the sum of all even numbers in the list.\n",
        "    \"\"\"\n",
        "    return sum(num for num in numbers if num % 2 == 0)\n",
        "\n",
        "# Example usage:\n",
        "numbers = [1, 2, 3, 4, 5, 6]\n",
        "result = sum_of_evens(numbers)\n",
        "print(f\"The sum of even numbers is: {result}\")"
      ],
      "metadata": {
        "colab": {
          "base_uri": "https://localhost:8080/"
        },
        "id": "rm1evdits5ZD",
        "outputId": "c89ae2d9-2bfc-472e-c3a1-2fcc25634aeb"
      },
      "execution_count": 1,
      "outputs": [
        {
          "output_type": "stream",
          "name": "stdout",
          "text": [
            "The sum of even numbers is: 12\n"
          ]
        }
      ]
    },
    {
      "cell_type": "code",
      "source": [
        "# Q2  Create a Python function that accepts a string and returns the reverse of that string.?\n",
        "\n",
        "# solution:-\n",
        "\n",
        "def rev(inputstring):\n",
        "    return inputstring[::-1]\n",
        "text = \"lokendra\"\n",
        "reversedtext = rev(text)\n",
        "print(reversedtext)"
      ],
      "metadata": {
        "colab": {
          "base_uri": "https://localhost:8080/"
        },
        "id": "UnkQvl64tl0T",
        "outputId": "dd4e751d-ab3f-46e7-fa94-df5be6a95cfc"
      },
      "execution_count": 8,
      "outputs": [
        {
          "output_type": "stream",
          "name": "stdout",
          "text": [
            "ardnekol\n"
          ]
        }
      ]
    },
    {
      "cell_type": "code",
      "source": [
        "# Q3 implement a Python function that takes a list of integers and returns a new list containing the squares of each number ?\n",
        "\n",
        "def square(numbers):\n",
        "    return [num ** 2 for num in numbers]\n",
        "\n",
        "numbers = [1, 2, 3, 4, 5]\n",
        "square = square(numbers)\n",
        "print(square)\n"
      ],
      "metadata": {
        "colab": {
          "base_uri": "https://localhost:8080/"
        },
        "id": "xgzTyqhYwNC4",
        "outputId": "9d0f8c77-1025-44e0-f7f7-52cc9a0e1e02"
      },
      "execution_count": 14,
      "outputs": [
        {
          "output_type": "stream",
          "name": "stdout",
          "text": [
            "[1, 4, 9, 16, 25]\n"
          ]
        }
      ]
    },
    {
      "cell_type": "code",
      "source": [
        "# Q4 Write a Python function that checks if a given number is prime or not from 1 to 200?\n",
        "\n",
        "# solution:-\n",
        "def prime(num):\n",
        "    if num <= 1:\n",
        "        return \"non prime\"\n",
        "    for i in range(2, num):\n",
        "        if num % i == 0:\n",
        "            return \"non prime\"\n",
        "    return \"prime\"\n",
        "prime(12)"
      ],
      "metadata": {
        "colab": {
          "base_uri": "https://localhost:8080/",
          "height": 36
        },
        "id": "wjARXPiiw7PA",
        "outputId": "7139a203-4938-44ae-bc34-0c5fa09eecde"
      },
      "execution_count": 24,
      "outputs": [
        {
          "output_type": "execute_result",
          "data": {
            "text/plain": [
              "'non prime'"
            ],
            "application/vnd.google.colaboratory.intrinsic+json": {
              "type": "string"
            }
          },
          "metadata": {},
          "execution_count": 24
        }
      ]
    },
    {
      "cell_type": "code",
      "source": [
        "# Q5  Create an iterator class in Python that generates the Fibonacci sequence up to a specified number of terms?\n",
        "\n",
        "# solution:-\n",
        "class FibonacciIterator:\n",
        "    def __init__(self, n):\n",
        "        self.n = n\n",
        "        self.a, self.b = 0, 1\n",
        "        self.count = 0\n",
        "\n",
        "    def __iter__(self):\n",
        "        return self\n",
        "\n",
        "    def __next__(self):\n",
        "        if self.count >= self.n:\n",
        "            raise StopIteration\n",
        "        self.count += 1\n",
        "        current = self.a\n",
        "        self.a, self.b = self.b, self.a + self.b\n",
        "        return current\n",
        "\n",
        "fib = FibonacciIterator(12)\n",
        "for num in fib:\n",
        "    print(num)"
      ],
      "metadata": {
        "colab": {
          "base_uri": "https://localhost:8080/"
        },
        "id": "svJa3Je12Bll",
        "outputId": "d68eb27d-fd68-47ca-b96c-f071cb177d1d"
      },
      "execution_count": 34,
      "outputs": [
        {
          "output_type": "stream",
          "name": "stdout",
          "text": [
            "0\n",
            "1\n",
            "1\n",
            "2\n",
            "3\n",
            "5\n",
            "8\n",
            "13\n",
            "21\n",
            "34\n",
            "55\n",
            "89\n"
          ]
        }
      ]
    },
    {
      "cell_type": "code",
      "source": [
        "# Q6 Write a generator function in Python that yields the powers of 2 up to a given exponent.?\n",
        "\n",
        "# solution:-\n",
        "\n",
        "def powersoftwo(maxexponent):\n",
        "\n",
        "    for exponent in range(maxexponent + 1):\n",
        "        yield 2 ** exponent\n",
        "\n",
        "maxexponent = 10\n",
        "print(maxexponent)\n",
        "for power in powersoftwo(maxexponent):\n",
        "    print(power)"
      ],
      "metadata": {
        "colab": {
          "base_uri": "https://localhost:8080/"
        },
        "id": "5ZZGzgl_5zkW",
        "outputId": "edb3c5d7-d3fa-4759-c0dd-ff9f78649a2b"
      },
      "execution_count": 37,
      "outputs": [
        {
          "output_type": "stream",
          "name": "stdout",
          "text": [
            "10\n",
            "1\n",
            "2\n",
            "4\n",
            "8\n",
            "16\n",
            "32\n",
            "64\n",
            "128\n",
            "256\n",
            "512\n",
            "1024\n"
          ]
        }
      ]
    },
    {
      "cell_type": "code",
      "source": [
        "# Q7 Implement a generator function that reads a file line by line and yields each line as a string ?\n",
        "\n",
        "# solution:-\n",
        "\n",
        "def read(file_path):\n",
        "    with open(r\"D:\\git\\functionassign\\New Text Document.txt\",'r') as file:\n",
        "        for line in file:\n",
        "            yield line.strip()\n",
        "file_path = r\"D:\\git\\functionassign\\New Text Document.txt\"\n",
        "print(\"Contents of the file:\")\n",
        "for line in read(file_path):\n",
        "    print(line)"
      ],
      "metadata": {
        "id": "Bl5dlIA657vG"
      },
      "execution_count": null,
      "outputs": []
    },
    {
      "cell_type": "code",
      "source": [
        "# Q8 Use a lambda function in Python to sort a list of tuples based on the second element of each tuple.?\n",
        "\n",
        "#solution:-\n",
        "tupleslist = [(1, 3), (4, 1), (2, 2), (5, 0)]\n",
        "sorted_list = sorted(tupleslist, key=lambda x: x[1])\n",
        "print(sorted_list)\n"
      ],
      "metadata": {
        "colab": {
          "base_uri": "https://localhost:8080/"
        },
        "id": "ABNwIcnC8Zi5",
        "outputId": "cda92de0-4f16-47b2-bebc-0fb6092f77d7"
      },
      "execution_count": 38,
      "outputs": [
        {
          "output_type": "stream",
          "name": "stdout",
          "text": [
            "[(5, 0), (4, 1), (2, 2), (1, 3)]\n"
          ]
        }
      ]
    },
    {
      "cell_type": "code",
      "source": [
        "# Q9 . Write a Python program that uses `map()` to convert a list of temperatures from Celsius to Fahrenheit?\n",
        "\n",
        "#solution:-\n",
        "def ctof(cel):\n",
        "    return (cel * 9/5) + 32\n",
        "celtemp = [0, 20, 30, 40, 100]\n",
        "\n",
        "ftemp = list(map(ctof, celtemp))\n",
        "\n",
        "print(celtemp)\n",
        "print(ftemp)\n"
      ],
      "metadata": {
        "colab": {
          "base_uri": "https://localhost:8080/"
        },
        "id": "7H_LVQWh9sOc",
        "outputId": "427ac396-90e9-49cc-f7e5-1e0bca659e15"
      },
      "execution_count": 39,
      "outputs": [
        {
          "output_type": "stream",
          "name": "stdout",
          "text": [
            "[0, 20, 30, 40, 100]\n",
            "[32.0, 68.0, 86.0, 104.0, 212.0]\n"
          ]
        }
      ]
    },
    {
      "cell_type": "code",
      "source": [
        "# Q10 Create a Python program that uses `filter()` to remove all the vowels from a given string ?\n",
        "\n",
        "#solution :-\n",
        "def notvowel(char):\n",
        "    vowels = \"aeiouAEIOU\"\n",
        "    return char not in vowels\n",
        "inputstring = \"lokendra singh.\"\n",
        "result = ''.join(filter(notvowel, inputstring))\n",
        "print(\"with vowels:\", inputstring)\n",
        "print(\" without vowels:\", result)"
      ],
      "metadata": {
        "colab": {
          "base_uri": "https://localhost:8080/"
        },
        "id": "G6n5fLUf-VqD",
        "outputId": "64909c70-000d-443d-f700-1c157665b65b"
      },
      "execution_count": 45,
      "outputs": [
        {
          "output_type": "stream",
          "name": "stdout",
          "text": [
            "with vowels: lokendra singh.\n",
            " without vowels: lkndr sngh.\n"
          ]
        }
      ]
    },
    {
      "cell_type": "code",
      "source": [
        "'''Q11  Imagine an accounting routine used in a book shop. It works on a list with sublists, which look like this:\n",
        "\n",
        "    ordernumber    booktitle                 author             quantity    price per item\n",
        "    34587         Learning Python           Mark Lutz              4            40.95\n",
        "    98762        Programming Python         Mark Lutz              5            56.80\n",
        "    77226        head first python          paul barry             3            32.95\n",
        "    88112       Einfuhrung in python3       bernd klein            3            24.99\n",
        "\n",
        "\n",
        "Write a Python program, which returns a list with 2-tuples. Each tuple consists of the order number and the\n",
        "product of the price per item and the quantity. The product should be increased by 10,- € if the value of the\n",
        "order is smaller than 100,00 €.\n",
        "\n",
        "Write a Python program using lambda and map.'''\n",
        "\n",
        "orders=[(34587, \"Learning Python, Mark Lutz\", 4, 40.95),(98762, \"Programming Python, Mark Lutz\", 5, 56.80),(77226, \"head first python, paul barry\", 3,32.95),(88112, \"Einfuhrung in python3,bernd klein\", 3,24.99)]\n",
        "result = list(map(lambda order: (order[0], order[2] * order[3] + 10 if order[2] * order[3] < 100 else order[2] * order[3]), orders))\n",
        "\n",
        "#  hence the order 3 and 4 will have a price addition of ruppess 10 euro per quantity\n",
        "print(result)"
      ],
      "metadata": {
        "colab": {
          "base_uri": "https://localhost:8080/"
        },
        "id": "-J0-bt4yHhaN",
        "outputId": "0f07fbef-e9b9-4c4f-915f-3dee1806e424"
      },
      "execution_count": 67,
      "outputs": [
        {
          "output_type": "stream",
          "name": "stdout",
          "text": [
            "[(34587, 163.8), (98762, 284.0), (77226, 108.85000000000001), (88112, 84.97)]\n"
          ]
        }
      ]
    }
  ]
}